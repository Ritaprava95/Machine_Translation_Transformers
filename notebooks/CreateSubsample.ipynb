{
 "cells": [
  {
   "cell_type": "code",
   "execution_count": 1,
   "id": "e52d75f0",
   "metadata": {},
   "outputs": [],
   "source": [
    "import pandas as pd"
   ]
  },
  {
   "cell_type": "code",
   "execution_count": 3,
   "id": "df8c744b",
   "metadata": {},
   "outputs": [],
   "source": [
    "data = pd.read_csv('en-fr.csv')[:1000]"
   ]
  },
  {
   "cell_type": "code",
   "execution_count": 6,
   "id": "40060e11",
   "metadata": {},
   "outputs": [],
   "source": [
    "data.to_csv('en-fr_sm.csv', index=False)"
   ]
  },
  {
   "cell_type": "code",
   "execution_count": null,
   "id": "6254ec09",
   "metadata": {},
   "outputs": [],
   "source": []
  }
 ],
 "metadata": {
  "kernelspec": {
   "display_name": "Python 3 (ipykernel)",
   "language": "python",
   "name": "python3"
  },
  "language_info": {
   "codemirror_mode": {
    "name": "ipython",
    "version": 3
   },
   "file_extension": ".py",
   "mimetype": "text/x-python",
   "name": "python",
   "nbconvert_exporter": "python",
   "pygments_lexer": "ipython3",
   "version": "3.8.13"
  }
 },
 "nbformat": 4,
 "nbformat_minor": 5
}
